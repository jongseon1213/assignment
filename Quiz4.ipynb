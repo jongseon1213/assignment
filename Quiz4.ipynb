{
 "cells": [
  {
   "cell_type": "code",
   "execution_count": 4,
   "metadata": {},
   "outputs": [],
   "source": [
    "class MyDeque:\n",
    "    def __init__(self):\n",
    "        self.mydeque = []\n",
    "    \n",
    "    def __str__(self):\n",
    "        return \"mydeque([{}])\".format(\",\".join(self.mydeque))\n",
    "    \n",
    "    def __repr__(self):\n",
    "        return \"mydeque([{}])\".format(\",\".join(self.mydeque))\n",
    "            \n",
    "    def func(self, _input):\n",
    "        _input = _input.split(' ')\n",
    "        if _input[0] == 'push_front':\n",
    "            return self.push_front(_input[1])\n",
    "        elif _input[0] == 'push_back':\n",
    "            return self.push_back(_input[1])\n",
    "        elif _input[0] == 'pop_front':\n",
    "            return self.pop_front()\n",
    "        elif _input[0] == 'pop_back':\n",
    "            return self.pop_back()\n",
    "        elif _input[0] == 'size':\n",
    "            return self.size()\n",
    "        elif _input[0] == 'empty':\n",
    "            return self.empty()\n",
    "        elif _input[0] == 'front':\n",
    "            return self.front()\n",
    "        elif _input[0] == 'back':\n",
    "            return self.back()\n",
    "        else:\n",
    "            raise 'No Attribution'\n",
    "    \n",
    "    def push_front(self, _input):\n",
    "        self.mydeque.insert(0, _input)\n",
    "    \n",
    "    def push_back(self, _input):\n",
    "        self.mydeque.append(_input)\n",
    "        \n",
    "    def pop_front(self):\n",
    "        try:\n",
    "            return self.mydeque.pop(0)\n",
    "        except IndexError:\n",
    "            return -1\n",
    "    \n",
    "    def pop_back(self):\n",
    "        try:\n",
    "            return self.mydeque.pop(-1)\n",
    "        except IndexError:\n",
    "            return -1\n",
    "        \n",
    "    def size(self):\n",
    "        return len(self.mydeque)\n",
    "    \n",
    "    def empty(self):\n",
    "        if self.size() == 0:\n",
    "            return 1\n",
    "        else:\n",
    "            return 0\n",
    "        \n",
    "    def front(self):\n",
    "        try:\n",
    "            return self.mydeque[0]\n",
    "        except IndexError:\n",
    "            return -1\n",
    "        \n",
    "    def back(self):\n",
    "        try:\n",
    "            return self.mydeque[-1]\n",
    "        except IndexError:\n",
    "            return -1"
   ]
  },
  {
   "cell_type": "code",
   "execution_count": 7,
   "metadata": {},
   "outputs": [],
   "source": [
    "mydeque = MyDeque()"
   ]
  },
  {
   "cell_type": "code",
   "execution_count": 8,
   "metadata": {},
   "outputs": [
    {
     "name": "stdout",
     "output_type": "stream",
     "text": [
      "mydeque([])\n"
     ]
    },
    {
     "data": {
      "text/plain": [
       "mydeque([])"
      ]
     },
     "execution_count": 8,
     "metadata": {},
     "output_type": "execute_result"
    }
   ],
   "source": [
    "print(mydeque)\n",
    "mydeque"
   ]
  },
  {
   "cell_type": "code",
   "execution_count": 9,
   "metadata": {},
   "outputs": [
    {
     "name": "stdout",
     "output_type": "stream",
     "text": [
      "-1\n"
     ]
    }
   ],
   "source": [
    "print(mydeque.func('front'))"
   ]
  },
  {
   "cell_type": "code",
   "execution_count": 10,
   "metadata": {},
   "outputs": [],
   "source": [
    "mydeque.func('push_front 2')\n",
    "mydeque.func('push_back 3')\n",
    "mydeque.func('push_front 1')"
   ]
  },
  {
   "cell_type": "code",
   "execution_count": 11,
   "metadata": {},
   "outputs": [
    {
     "data": {
      "text/plain": [
       "mydeque([1,2,3])"
      ]
     },
     "execution_count": 11,
     "metadata": {},
     "output_type": "execute_result"
    }
   ],
   "source": [
    "mydeque"
   ]
  },
  {
   "cell_type": "code",
   "execution_count": 12,
   "metadata": {},
   "outputs": [
    {
     "data": {
      "text/plain": [
       "3"
      ]
     },
     "execution_count": 12,
     "metadata": {},
     "output_type": "execute_result"
    }
   ],
   "source": [
    "mydeque.func('size')"
   ]
  },
  {
   "cell_type": "code",
   "execution_count": 13,
   "metadata": {},
   "outputs": [
    {
     "data": {
      "text/plain": [
       "'3'"
      ]
     },
     "execution_count": 13,
     "metadata": {},
     "output_type": "execute_result"
    }
   ],
   "source": [
    "mydeque.func('pop_back')"
   ]
  },
  {
   "cell_type": "code",
   "execution_count": 14,
   "metadata": {},
   "outputs": [
    {
     "data": {
      "text/plain": [
       "'1'"
      ]
     },
     "execution_count": 14,
     "metadata": {},
     "output_type": "execute_result"
    }
   ],
   "source": [
    "mydeque.func('pop_front')"
   ]
  },
  {
   "cell_type": "code",
   "execution_count": null,
   "metadata": {},
   "outputs": [],
   "source": []
  }
 ],
 "metadata": {
  "kernelspec": {
   "display_name": "Python 3",
   "language": "python",
   "name": "python3"
  },
  "language_info": {
   "codemirror_mode": {
    "name": "ipython",
    "version": 3
   },
   "file_extension": ".py",
   "mimetype": "text/x-python",
   "name": "python",
   "nbconvert_exporter": "python",
   "pygments_lexer": "ipython3",
   "version": "3.8.3"
  }
 },
 "nbformat": 4,
 "nbformat_minor": 4
}
