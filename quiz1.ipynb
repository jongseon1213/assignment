{
 "cells": [
  {
   "cell_type": "code",
   "execution_count": 10,
   "metadata": {
    "scrolled": true
   },
   "outputs": [
    {
     "name": "stdout",
     "output_type": "stream",
     "text": [
      "5\n",
      "7\n",
      "3 8\n",
      "8 1 0\n",
      "2 7 4 4\n",
      "4 5 2 6 5\n",
      "[[7], [3, 8], [8, 1, 0], [2, 7, 4, 4], [4, 5, 2, 6, 5]]\n",
      "수행시간 : 0.000000초\n",
      "결과값 : 30\n"
     ]
    }
   ],
   "source": [
    "import time\n",
    "import copy\n",
    "\n",
    "H = int(input()) //높이입력\n",
    "\n",
    "int_triangle = [] // 삼각형 입력\n",
    "for i in range(H):\n",
    "    input_ = input()\n",
    "    line = list(map(int, input_.split(' ')))\n",
    "    assert len(line) == i + 1\n",
    "    int_triangle.append(line)\n",
    "    \n",
    "print(int_triangle)\n",
    "\n",
    "def compare(a,b) : // 비교\n",
    "    if a>b :\n",
    "        return a\n",
    "    else :\n",
    "        return b\n",
    "    \n",
    "def update_triangle(int_triangle, level) : // 밑에서부터 큰거 더한다\n",
    "    for i in range(level):\n",
    "        int_triangle[level-1][i] += compare(int_triangle[level][i], int_triangle[level][i+1])\n",
    "    return int_triangle\n",
    "\n",
    "def main(H,int_triangle) :\n",
    "    height = H\n",
    "    triangle = copy.deepcopy(int_triangle)\n",
    "    for level in range(height-1,0,-1) :\n",
    "        update_triangle(triangle,level) // 높이 0 될때까지 반복\n",
    "        if level == 0:\n",
    "            break\n",
    "        else :\n",
    "            del(triangle[level])\n",
    "    return triangle\n",
    "    \n",
    "if __name__ == '__main__' :\n",
    "    s= time.time()\n",
    "    result = main(H,int_triangle)\n",
    "    e= time.time()\n",
    "    print(\"수행시간 : {0:f}초\".format(e-s)) // 수행시간 계산\n",
    "    print(\"결과값 : {}\".format(result[0][0]))\n",
    "        "
   ]
  }
 ],
 "metadata": {
  "kernelspec": {
   "display_name": "Python 3",
   "language": "python",
   "name": "python3"
  },
  "language_info": {
   "codemirror_mode": {
    "name": "ipython",
    "version": 3
   },
   "file_extension": ".py",
   "mimetype": "text/x-python",
   "name": "python",
   "nbconvert_exporter": "python",
   "pygments_lexer": "ipython3",
   "version": "3.8.3"
  }
 },
 "nbformat": 4,
 "nbformat_minor": 4
}
