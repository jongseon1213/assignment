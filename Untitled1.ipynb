{
 "cells": [
  {
   "cell_type": "markdown",
   "metadata": {},
   "source": [
    "Q1. 1000 ~ 9999 까지(1000과 9999도 계산에 포함)의 네 자리 숫자 가운데에 '10'을 포함하는 숫자의 갯수는?"
   ]
  },
  {
   "cell_type": "code",
   "execution_count": 8,
   "metadata": {},
   "outputs": [
    {
     "name": "stdout",
     "output_type": "stream",
     "text": [
      "279\n"
     ]
    }
   ],
   "source": [
    "count = 0\n",
    "for i in range(1000,10000) :\n",
    "    s = str(i)\n",
    "    if s.find('10')>-1 :\n",
    "        count += 1\n",
    "        \n",
    "print(count)"
   ]
  },
  {
   "cell_type": "markdown",
   "metadata": {},
   "source": [
    "Q2. 10 ~ 99999 까지(10과 99999도 계산에 포함)의 숫자 가운데에 20의 배수이며 '080'을 포함하는 숫자의 갯수는?"
   ]
  },
  {
   "cell_type": "code",
   "execution_count": 11,
   "metadata": {},
   "outputs": [
    {
     "name": "stdout",
     "output_type": "stream",
     "text": [
      "108\n"
     ]
    }
   ],
   "source": [
    "count = 0\n",
    "for i in range(1000,100000) : \n",
    "    s = str(i)\n",
    "    if s.find('080')>-1 :\n",
    "        x = int(i)\n",
    "        if x%20==0 : \n",
    "            count += 1\n",
    "            \n",
    "print(count)"
   ]
  },
  {
   "cell_type": "markdown",
   "metadata": {},
   "source": [
    "Q3. d = {'Hospital':0, 'PostOffice':1, 'Phamacy':2, 'School':3, 'Home':4, 'Convenience':5, 'DepartmentStore':6, 'BeautySalon':7, 'Lotteria':8}는 사전 자료형이며, 각 element의 key는 건물 이름을 의미하고 value는 아래 'map'에서 건물의 위치를 의미한다. '철수'는 매일 집에서 09:00에 나와서 정확히 30분마다 인접한 건물로 이동한다고 했을 때, 18:00에 'Hospital'에 있을 확률 p(0.0 <= p <= 1.0)는 얼마인가?\n",
    "'철수'는 30분마다 꼭 인접한 건물로 이동해야하며(같은 건물에 30분을 초과하여 체류할 수 없음) 대각선에 위치한 건물로는 이동할 수 없다고 가정한다."
   ]
  },
  {
   "cell_type": "code",
   "execution_count": 68,
   "metadata": {},
   "outputs": [
    {
     "name": "stdout",
     "output_type": "stream",
     "text": [
      "0.16684633333333335\n"
     ]
    }
   ],
   "source": [
    "from random import *\n",
    "\n",
    "count=0\n",
    "repeat=9000000\n",
    "\n",
    "for i in range(repeat) :\n",
    "    maps=[0,0,0,0,0,0,0,0,0]\n",
    "    a = randint(1,4)\n",
    "    if a==1 : maps[1] = 1\n",
    "    elif a==2 : maps[3] = 1\n",
    "    elif a==3 : maps[5] = 1\n",
    "    elif a==4 : maps[7] = 1\n",
    "    \n",
    "    for i in range(17) :\n",
    "        if maps[0]==1 :\n",
    "            a=randint(1,2)\n",
    "            if a==1 : maps[1]=1\n",
    "            elif a==2 : maps[3]=1\n",
    "            maps[0]=0\n",
    "            continue\n",
    "            \n",
    "        elif maps[1]==1 :\n",
    "            a=randint(1,3)\n",
    "            if a==1 : maps[0] = 1\n",
    "            elif a==2 : maps[2] = 1\n",
    "            elif a==3 : maps[4] = 1\n",
    "            maps[1]=0\n",
    "            continue\n",
    "            \n",
    "        elif maps[2]==1 :\n",
    "            a=randint(1,2)\n",
    "            if a==1 : maps[1]=1\n",
    "            elif a==2 : maps[5]=1\n",
    "            maps[2]=0\n",
    "            continue\n",
    "            \n",
    "        elif maps[3]==1 :\n",
    "            a=randint(1,3)\n",
    "            if a==1 : maps[0] = 1\n",
    "            elif a==2 : maps[6] = 1\n",
    "            elif a==3 : maps[4] = 1\n",
    "            maps[3]=0\n",
    "            continue     \n",
    "            \n",
    "        elif maps[4]==1 :\n",
    "            a = randint(1,4)\n",
    "            if a==1 : maps[1] = 1\n",
    "            elif a==2 : maps[3] = 1\n",
    "            elif a==3 : maps[5] = 1\n",
    "            elif a==4 : maps[7] = 1\n",
    "            maps[4]=0\n",
    "            continue\n",
    "            \n",
    "        elif maps[5]==1 :\n",
    "            a=randint(1,3)\n",
    "            if a==1 : maps[2] = 1\n",
    "            elif a==2 : maps[8] = 1\n",
    "            elif a==3 : maps[4] = 1\n",
    "            maps[5]=0\n",
    "            continue     \n",
    "            \n",
    "        elif maps[6]==1 :\n",
    "            a=randint(1,2)\n",
    "            if a==1 : maps[3]=1\n",
    "            elif a==2 : maps[7]=1\n",
    "            maps[6]=0\n",
    "            continue\n",
    "            \n",
    "        elif maps[7]==1 :\n",
    "            a=randint(1,3)\n",
    "            if a==1 : maps[6] = 1\n",
    "            elif a==2 : maps[8] = 1\n",
    "            elif a==3 : maps[4] = 1\n",
    "            maps[7]=0\n",
    "            continue     \n",
    "             \n",
    "        elif maps[8]==1 :\n",
    "            a=randint(1,2)\n",
    "            if a==1 : maps[5]=1\n",
    "            elif a==2 : maps[7]=1\n",
    "            maps[8]=0\n",
    "            continue\n",
    "             \n",
    "    if maps[0]==1 : count+=1\n",
    "\n",
    "print(count/repeat)"
   ]
  }
 ],
 "metadata": {
  "kernelspec": {
   "display_name": "Python 3",
   "language": "python",
   "name": "python3"
  },
  "language_info": {
   "codemirror_mode": {
    "name": "ipython",
    "version": 3
   },
   "file_extension": ".py",
   "mimetype": "text/x-python",
   "name": "python",
   "nbconvert_exporter": "python",
   "pygments_lexer": "ipython3",
   "version": "3.8.3"
  }
 },
 "nbformat": 4,
 "nbformat_minor": 4
}
